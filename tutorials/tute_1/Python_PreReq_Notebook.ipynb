{
 "cells": [
  {
   "attachments": {},
   "cell_type": "markdown",
   "id": "946dddeb",
   "metadata": {},
   "source": [
    "# Pre-Requisite Notebook\n",
    "## Welcome\n",
    "Welcome to Applied Data Science for 2023 Semester 2! \n",
    "\n",
    "## General Tutorial Structure for Weeks 1 - 4\n",
    "- We will be using Python, PySpark and Git for the majority of this subject. \n",
    "- This is because TLC as of 2022 has opted in to use `parquet` over `csv`. We will discuss this in the first tutorial.\n",
    "- The first hour of the tutorial will be based on general programming how-to's and walkthroughs.\n",
    "- The remainder of the tutorial is for asking questions and forming groups. We can also answer general questions about industry / applying for jobs. \n",
    "- Finally, **tutorial attendance will be marked after the first 4 tutorials for the industry project component.**"
   ]
  },
  {
   "attachments": {},
   "cell_type": "markdown",
   "id": "a511833d",
   "metadata": {},
   "source": [
    "----"
   ]
  },
  {
   "attachments": {},
   "cell_type": "markdown",
   "id": "55e0979d",
   "metadata": {},
   "source": [
    "## `git` (GitHub) Summary\n",
    "_Whilst this should have been covered in pre-req subjects, I understand that the uni may not have covered it_. For this subject, the minimal requirement for `git` is:\n",
    "1. `clone`: copy an existing repo from remote (repository) into your local destination.\n",
    "2. Publishing new changes:\n",
    "  - `add` + `commit`: create a new snapshot of the local repository and commit the changes.\n",
    "  - `push`: upload your local commits to remote.\n",
    "3. Syncing unseen changes:\n",
    "  - `fetch`: download unseen commits from remote to local.\n",
    "  - `merge`: merge the commits from remote with changes in local.\n",
    "    - If local has no new changes (or `is up to date`), the merge does not create new snapshot.\n",
    "    - Otherwise, changes will be automatically merged if there is no *conflict*, else you need to resolve the conflict. You will need to `commit` the merge result once this process finishes.\n",
    "      - Question: After `merge`, is the local and remote now synced? Why or why not?\n",
    "  - `pull`: Shorthand for chaining `fetch` and `merge`\n",
    "  \n",
    "Graphical illustration:\n",
    "![gitoverview](../../media/git-process.png)\n",
    "\n",
    "4. Authentication:\n",
    "  - For GitHub, [Personal Access Tokens (PAT)](https://docs.github.com/en/authentication/keeping-your-account-and-data-secure/creating-a-personal-access-token) is required as a security measure.\n",
    "\n",
    "### GitHub Desktop\n",
    "GitHub Desktop hides lots of the process under-the-hood. It is good for those who are not familiar with `git` and honestly, we use it for industry work because its easy.\n",
    "\n",
    "**Cloning:** \n",
    "1. Download [GitHub Desktop](https://desktop.github.com/)\n",
    "2. Login with your credentials\n",
    "3. On the top-left menu, click on `Add` -> `Clone repository...`\n",
    "4. Enter https://github.com/VoLKyyyOG/MAST30034_Python as the URL\n",
    "5. Click on `Clone`.\n",
    "6. Done!\n",
    "\n",
    "**Publishing:**\n",
    "1. Add changes.\n",
    "2. Click on the `MAST30034_Python` repo.\n",
    "3. Add a summary (i.e `\"removed incorrect transformation for xyz\"`)\n",
    "4. Commit to `main` (or your specified `branch` if you know what it is)\n",
    "5. Push, and you are done.\n",
    "\n",
    "**Syncing:**\n",
    "1. Click on the `MAST30034_Python` repo.\n",
    "2. Click `Fetch origin` (refresh icon)\n",
    "3. Pull, and you are done.\n",
    "\n",
    "### `git` CLI (Command Line Interface)\n",
    "If you are using `git` CLI, you will need PAT:\n",
    "1. Visit https://github.com/settings/tokens \n",
    "2. Generate a token (set it to expire end of this semester).\n",
    "3. Add changes and commit as usual.\n",
    "4. Now, after adding your `username`, you will be prompted with `password`. Rather than using your GitHub password, you should use your generated PAT here.\n",
    "5. Done!\n",
    "\n",
    "**Cloning:** \n",
    "1. Open a terminal (yes it is commandline `git` for this to work).\n",
    "2. `git clone HTTPS` (where HTTPS is the https url to your gitlab repo).\n",
    "3. Enter your credentials (with PAT).\n",
    "4. Done.\n",
    "\n",
    "**Publishing:** \n",
    "1. Change directories to inside your repository (`cd NAME_OF_REPO_FOLDER`).\n",
    "2. `git add -A` (this will stage all changed/untracked files files for the next commit, ignored files are excepted). You can use `git status` to track changed files before adding.\n",
    "3. `git commit -m \"message\"` (make a commit with a message).\n",
    "5. `git push`\n",
    "6. Enter your credentials.\n",
    "    - Here, use the same username\n",
    "    - BUT, instead of your password, use the PAT you generated.\n",
    "7. Done.\n",
    "\n",
    "**Syncing:** \n",
    "1. Change directories to inside your repository (`cd NAME_OF_REPO_FOLDER`).\n",
    "2. `git pull`\n",
    "3. Done."
   ]
  },
  {
   "attachments": {},
   "cell_type": "markdown",
   "id": "146256b0",
   "metadata": {},
   "source": [
    "---"
   ]
  },
  {
   "attachments": {},
   "cell_type": "markdown",
   "id": "ed593b88",
   "metadata": {},
   "source": [
    "## General Tips for Jupyter Notebook\n",
    "Cell shortcuts:\n",
    "- `shift + enter` : Run current cell (equivalent of pressing <button class='btn btn-default btn-xs'><i class=\"fa-play fa\"></i><span class=\"toolbar-btn-label\">Run</span></button>)\n",
    "- `ctrl + enter` : Run selected cells\n",
    "\n",
    "Command mode (press `esc` to enter):\n",
    "- `m` : Makes the cell markdown\n",
    "- `y` : Makes the cell into code\n",
    "- `a` : Insert cell above\n",
    "- `b` : Insert cell above\n",
    "- double `d` : Delete current cell\n",
    "\n",
    "Code Shortcuts:\n",
    "- `shift + tab` : brings function arguments\n",
    "\n",
    "Multiline Cursor:\n",
    "- Hold down `ctrl` on Windows or `cmd` on Mac and click on the places you wish to edit all together."
   ]
  },
  {
   "attachments": {},
   "cell_type": "markdown",
   "id": "81ecaeef",
   "metadata": {},
   "source": [
    "---"
   ]
  },
  {
   "attachments": {},
   "cell_type": "markdown",
   "id": "4c9d129a",
   "metadata": {},
   "source": [
    "## Python / Requests\n",
    "This notebook will explain how to use requests to download files via Python.\n",
    "\n",
    "1. There are several libraries and packages available for Python when it comes to requesting data. For this tutorial, we'll use `urllib`."
   ]
  },
  {
   "cell_type": "code",
   "execution_count": 1,
   "id": "52550d58",
   "metadata": {
    "ExecuteTime": {
     "end_time": "2023-07-11T20:52:15.041722Z",
     "start_time": "2023-07-11T20:52:15.039550Z"
    }
   },
   "outputs": [],
   "source": [
    "from urllib.request import urlretrieve"
   ]
  },
  {
   "attachments": {},
   "cell_type": "markdown",
   "id": "b13523f0",
   "metadata": {},
   "source": [
    "2. We now want to set an output directory. You can manually create it OR you can also use Python to do so. We will be using the latter method for automation purposes. To do so, we will use the [`os` library](https://docs.python.org/3/library/os.html#os.mkdir).\n",
    "\n",
    "Important (Paths): \n",
    "- Windows Users: https://www.computerhope.com/issues/ch001708.htm#windows\n",
    "- MacOS/Linux/WSL Users: https://www.computerhope.com/issues/ch001708.htm#linux\n",
    "- `..` is used to _go up_ a level (i.e the back button).\n",
    "\n",
    "We will make a new folder _outside_ this `tutorials/tute_1` folder inside the root `MAST30034` directory. To do so, we will use `../data` to \"exit\" the current directory or \"go up\" to the parent directory. Then, we will go into the `data` folder to create subdirectories.\n",
    "\n",
    "If you cloned the repo, you should already have the `data/taxi_zones` directory."
   ]
  },
  {
   "cell_type": "code",
   "execution_count": 2,
   "id": "bbd9bd35",
   "metadata": {
    "ExecuteTime": {
     "end_time": "2023-07-11T20:52:15.045618Z",
     "start_time": "2023-07-11T20:52:15.043068Z"
    }
   },
   "outputs": [],
   "source": [
    "import os\n",
    "\n",
    "# from the current `tute_1` directory, go back two levels to the `MAST30034` directory\n",
    "output_relative_dir = '../../data/'\n",
    "\n",
    "# check if it exists as it makedir will raise an error if it does exist\n",
    "if not os.path.exists(output_relative_dir):\n",
    "    os.makedirs(output_relative_dir)\n",
    "    \n",
    "# now, for each type of data set we will need, we will create the paths\n",
    "for target_dir in ('tlc_data', 'tute_data'): # taxi_zones should already exist\n",
    "    if not os.path.exists(output_relative_dir + target_dir):\n",
    "        os.makedirs(output_relative_dir + target_dir)"
   ]
  },
  {
   "attachments": {},
   "cell_type": "markdown",
   "id": "8ebc4dd5",
   "metadata": {},
   "source": [
    "3. Now, we will download the required datasets. For this tutorial, we will only use January-February, but you can adjust it to your requirements.\n",
    "\n",
    "**Please only use the years where there are zones (post 2015).**"
   ]
  },
  {
   "cell_type": "code",
   "execution_count": 6,
   "id": "afb62526",
   "metadata": {
    "ExecuteTime": {
     "end_time": "2023-07-11T20:52:15.048828Z",
     "start_time": "2023-07-11T20:52:15.047238Z"
    }
   },
   "outputs": [],
   "source": [
    "YEAR = '2022'\n",
    "# adjust the range function to the numerical months i.e 1 = jan, 2 = feb, etc...\n",
    "# MONTHS = range(1, 13)\n",
    "MONTHS = range(1, 4)"
   ]
  },
  {
   "cell_type": "code",
   "execution_count": 7,
   "id": "14395028",
   "metadata": {
    "ExecuteTime": {
     "end_time": "2023-07-11T20:52:15.052305Z",
     "start_time": "2023-07-11T20:52:15.050760Z"
    }
   },
   "outputs": [],
   "source": [
    "# this is the URL template as of 07/2023\n",
    "URL_TEMPLATE = \"https://d37ci6vzurychx.cloudfront.net/trip-data/yellow_tripdata_\"#year-month.parquet"
   ]
  },
  {
   "cell_type": "code",
   "execution_count": 8,
   "id": "613317b5",
   "metadata": {
    "ExecuteTime": {
     "end_time": "2023-07-11T21:23:35.202286Z",
     "start_time": "2023-07-11T21:23:15.944342Z"
    }
   },
   "outputs": [
    {
     "name": "stdout",
     "output_type": "stream",
     "text": [
      "Begin month 01\n",
      "Completed month 01\n",
      "Begin month 02\n",
      "Completed month 02\n",
      "Begin month 03\n",
      "Completed month 03\n"
     ]
    }
   ],
   "source": [
    "# data output directory is `data/tlc_data/`\n",
    "tlc_output_dir = output_relative_dir + 'tlc_data'\n",
    "\n",
    "for month in MONTHS:\n",
    "    # 0-fill i.e 1 -> 01, 2 -> 02, etc\n",
    "    month = str(month).zfill(2) \n",
    "    print(f\"Begin month {month}\")\n",
    "    \n",
    "    # generate url\n",
    "    url = f'{URL_TEMPLATE}{YEAR}-{month}.parquet'\n",
    "    # generate output location and filename\n",
    "    output_dir = f\"{tlc_output_dir}/{YEAR}-{month}.parquet\"\n",
    "    # download\n",
    "    urlretrieve(url, output_dir) \n",
    "    \n",
    "    print(f\"Completed month {month}\")"
   ]
  },
  {
   "attachments": {},
   "cell_type": "markdown",
   "id": "4accb3c8",
   "metadata": {},
   "source": [
    "4. The shapefile is inside the zip file from https://www.nyc.gov/site/tlc/about/tlc-trip-record-data.page:\n",
    "    - https://d37ci6vzurychx.cloudfront.net/misc/taxi+_zone_lookup.csv\n",
    "    - https://d37ci6vzurychx.cloudfront.net/misc/taxi_zones.zip\n",
    "    \n",
    "and now we are done!"
   ]
  },
  {
   "cell_type": "code",
   "execution_count": null,
   "id": "cdecde83",
   "metadata": {},
   "outputs": [],
   "source": []
  }
 ],
 "metadata": {
  "kernelspec": {
   "display_name": "Python 3 (ipykernel)",
   "language": "python",
   "name": "python3"
  },
  "language_info": {
   "codemirror_mode": {
    "name": "ipython",
    "version": 3
   },
   "file_extension": ".py",
   "mimetype": "text/x-python",
   "name": "python",
   "nbconvert_exporter": "python",
   "pygments_lexer": "ipython3",
   "version": "3.9.13"
  },
  "latex_envs": {
   "LaTeX_envs_menu_present": true,
   "autoclose": false,
   "autocomplete": true,
   "bibliofile": "biblio.bib",
   "cite_by": "apalike",
   "current_citInitial": 1,
   "eqLabelWithNumbers": true,
   "eqNumInitial": 1,
   "hotkeys": {
    "equation": "Ctrl-E",
    "itemize": "Ctrl-I"
   },
   "labels_anchors": false,
   "latex_user_defs": false,
   "report_style_numbering": false,
   "user_envs_cfg": false
  },
  "toc": {
   "base_numbering": 1,
   "nav_menu": {},
   "number_sections": true,
   "sideBar": true,
   "skip_h1_title": false,
   "title_cell": "Table of Contents",
   "title_sidebar": "Contents",
   "toc_cell": false,
   "toc_position": {},
   "toc_section_display": true,
   "toc_window_display": false
  },
  "varInspector": {
   "cols": {
    "lenName": 16,
    "lenType": 16,
    "lenVar": 40
   },
   "kernels_config": {
    "python": {
     "delete_cmd_postfix": "",
     "delete_cmd_prefix": "del ",
     "library": "var_list.py",
     "varRefreshCmd": "print(var_dic_list())"
    },
    "r": {
     "delete_cmd_postfix": ") ",
     "delete_cmd_prefix": "rm(",
     "library": "var_list.r",
     "varRefreshCmd": "cat(var_dic_list()) "
    }
   },
   "types_to_exclude": [
    "module",
    "function",
    "builtin_function_or_method",
    "instance",
    "_Feature"
   ],
   "window_display": false
  },
  "vscode": {
   "interpreter": {
    "hash": "aee8b7b246df8f9039afb4144a1f6fd8d2ca17a180786b69acc140d282b71a49"
   }
  }
 },
 "nbformat": 4,
 "nbformat_minor": 5
}
